{
 "cells": [
  {
   "cell_type": "code",
   "execution_count": 1,
   "metadata": {},
   "outputs": [],
   "source": [
    "import pandas as pd\n",
    "\n",
    "from astropy.table import Table\n",
    "\n",
    "SPECTRA_ECSV_PATH = \"/home/ramon/uanl/Tesis/Backup Data/Gaia Spectra/XP_CONTINUOUS-Gaia DR3 1982536257931470464.ecsv\""
   ]
  },
  {
   "cell_type": "code",
   "execution_count": 3,
   "metadata": {},
   "outputs": [
    {
     "data": {
      "text/html": [
       "<i>Table length=1</i>\n",
       "<table id=\"table140424213874480-313159\" class=\"table-striped table-bordered table-condensed\">\n",
       "<thead><tr><th>idx</th><th>source_id</th><th>solution_id</th><th>bp_basis_function_id</th><th>bp_degrees_of_freedom</th><th>bp_n_parameters</th><th>bp_n_measurements</th><th>bp_n_rejected_measurements</th><th>bp_standard_deviation</th><th>bp_chi_squared</th><th>bp_coefficients</th><th>bp_coefficient_errors</th><th>bp_coefficient_correlations</th><th>bp_n_relevant_bases</th><th>bp_relative_shrinking</th><th>rp_basis_function_id</th><th>rp_degrees_of_freedom</th><th>rp_n_parameters</th><th>rp_n_measurements</th><th>rp_n_rejected_measurements</th><th>rp_standard_deviation</th><th>rp_chi_squared</th><th>rp_coefficients</th><th>rp_coefficient_errors</th><th>rp_coefficient_correlations</th><th>rp_n_relevant_bases</th><th>rp_relative_shrinking</th></tr></thead>\n",
       "<tr><td>0</td><td>1982536257931470464</td><td>4545469030156206081</td><td>56</td><td>2354</td><td>55</td><td>2409</td><td>80</td><td>1.3529899</td><td>4309.189</td><td>[ 2.15383792e+02 -1.82432482e+01 -6.85243659e+00  1.27734866e+00\\n -1.99043435e+00  4.72209642e-01  3.45972979e-01 -6.63014875e-02\\n  7.91249256e-02  1.46407035e+00  7.93965122e-01  1.25109589e-01\\n  2.23430952e-02  2.90387419e-01 -6.47800757e-01 -4.31074347e-01\\n  6.74298721e-01  4.18131712e-01 -5.30047546e-02  4.15494273e-01\\n -2.47848150e-01 -2.09512252e-01 -2.81390298e-01 -1.74591871e-01\\n  6.88188446e-03  9.87305384e-02 -2.09554609e-01 -1.56821980e-01\\n -7.86792153e-01  1.92075718e-01 -4.09804664e-01  7.99764958e-02\\n -2.84916353e-01  4.15888554e-01  2.19883715e-02 -3.85694242e-01\\n -7.74081288e-02  5.56547145e-02 -1.23001706e-01 -1.76580460e-01\\n -6.38910727e-02  3.14199992e-01 -2.57625446e-01  1.13450773e-01\\n -7.06760057e-02  2.72445742e-01  1.81783514e-01 -2.63412482e-01\\n  9.81172861e-02 -1.00979066e-01  1.24639167e-01  1.07174618e-02\\n -2.13486110e-01  1.52878312e-02  1.41718897e-02]</td><td>[0.7199054  0.59998757 0.64279264 0.65445435 0.66993743 0.53341573\\n 0.5087097  1.1468512  0.6129872  0.598518   0.67253596 0.6466465\\n 0.5952981  0.5777305  0.59195095 0.5809616  0.51524097 0.46287036\\n 0.46275172 0.37620077 0.5205976  0.41835815 0.44984356 0.42349586\\n 0.42610288 0.39546886 0.3650944  0.3125187  0.35437217 0.29245666\\n 0.32100266 0.340698   0.3020191  0.30840486 0.28379872 0.2973129\\n 0.28670377 0.28040513 0.2720742  0.2825528  0.2567507  0.26694348\\n 0.27043062 0.2233304  0.21742986 0.2268014  0.22843856 0.19086194\\n 0.16403082 0.12974207 0.1269517  0.09489645 0.08826883 0.0673078\\n 0.02753889]</td><td>[ 0.221493   -0.15677929  0.17804603 ...  0.0087563   0.07212899\\n  0.03176775]</td><td>3</td><td>0.999869</td><td>57</td><td>3804</td><td>55</td><td>3859</td><td>32</td><td>1.6554226</td><td>10424.572</td><td>[ 2.35236533e+02 -2.50844353e+01 -2.05615616e-01  8.61485482e-01\\n  8.47017952e-01 -1.09408003e+00 -4.35975412e-02 -5.92679901e-01\\n  3.85461087e-01  8.98397765e-02  3.52525861e-01 -7.02128203e-01\\n -1.44301399e-01 -4.89360920e-02  5.58265611e-01 -5.62439109e-01\\n  7.54310819e-02  6.88750229e-01  4.51028082e-01  3.67017313e-01\\n  5.21582711e-01 -4.65722359e-01 -1.41515290e-01 -3.04776591e-01\\n  7.16962803e-01  8.45416895e-01 -3.70029278e-01  1.37359164e-01\\n  4.09855804e-01  3.40762006e-02 -2.23617640e-01  8.90714785e-02\\n  2.49773266e-01 -5.59352740e-02 -3.01164163e-02  2.44119509e-02\\n -1.24780604e-01  4.54085400e-01 -1.61374701e-01  7.92275647e-02\\n -1.65226709e-01 -1.33669212e-01  1.57313644e-01  4.27980422e-03\\n -5.97345668e-02  1.93867258e-02  4.45775820e-01  1.41103718e-01\\n -1.32784864e-01 -1.56919882e-02 -9.73548844e-02  1.05552034e-02\\n  1.80857037e-02 -1.60022099e-02 -2.45896828e-02]</td><td>[0.56409454 0.5243292  0.5221881  0.58703053 0.5501934  0.5508792\\n 0.55616355 0.53606796 0.52447563 0.57350194 0.49809211 0.5491484\\n 0.434815   0.5521401  0.5432386  0.5892269  0.5619752  0.5481838\\n 0.5928642  0.5812785  0.49175888 0.5721145  0.524282   0.5166376\\n 0.5506257  0.53406256 0.51614994 0.484011   0.4874362  0.47117287\\n 0.46569404 0.41877976 0.44488654 0.3965381  0.38689715 0.36180958\\n 0.3587207  0.3316918  0.3288602  0.31199273 0.32202426 0.3259802\\n 0.3264542  0.2837905  0.29357436 0.2802968  0.22428927 0.19663043\\n 0.1759663  0.20336363 0.1799685  0.15126313 0.12795663 0.06579899\\n 0.04136187]</td><td>[-0.05514617  0.15341316  0.09769637 ... -0.0177962   0.02455209\\n  0.00800055]</td><td>2</td><td>0.99992716</td></tr>\n",
       "</table><style>table.dataTable {clear: both; width: auto !important; margin: 0 !important;}\n",
       ".dataTables_info, .dataTables_length, .dataTables_filter, .dataTables_paginate{\n",
       "display: inline-block; margin-right: 1em; }\n",
       ".paginate_button { margin-right: 5px; }\n",
       "</style>\n",
       "<script>\n",
       "\n",
       "var astropy_sort_num = function(a, b) {\n",
       "    var a_num = parseFloat(a);\n",
       "    var b_num = parseFloat(b);\n",
       "\n",
       "    if (isNaN(a_num) && isNaN(b_num))\n",
       "        return ((a < b) ? -1 : ((a > b) ? 1 : 0));\n",
       "    else if (!isNaN(a_num) && !isNaN(b_num))\n",
       "        return ((a_num < b_num) ? -1 : ((a_num > b_num) ? 1 : 0));\n",
       "    else\n",
       "        return isNaN(a_num) ? -1 : 1;\n",
       "}\n",
       "\n",
       "require.config({paths: {\n",
       "    datatables: 'https://cdn.datatables.net/1.10.12/js/jquery.dataTables.min'\n",
       "}});\n",
       "require([\"datatables\"], function(){\n",
       "    console.log(\"$('#table140424213874480-313159').dataTable()\");\n",
       "    \n",
       "jQuery.extend( jQuery.fn.dataTableExt.oSort, {\n",
       "    \"optionalnum-asc\": astropy_sort_num,\n",
       "    \"optionalnum-desc\": function (a,b) { return -astropy_sort_num(a, b); }\n",
       "});\n",
       "\n",
       "    $('#table140424213874480-313159').dataTable({\n",
       "        order: [],\n",
       "        pageLength: 50,\n",
       "        lengthMenu: [[10, 25, 50, 100, 500, 1000, -1], [10, 25, 50, 100, 500, 1000, 'All']],\n",
       "        pagingType: \"full_numbers\",\n",
       "        columnDefs: [{targets: [0, 1, 2, 3, 4, 5, 6, 7, 8, 9, 13, 14, 15, 16, 17, 18, 19, 20, 21, 25, 26], type: \"optionalnum\"}]\n",
       "    });\n",
       "});\n",
       "</script>\n"
      ],
      "text/plain": [
       "<IPython.core.display.HTML object>"
      ]
     },
     "execution_count": 3,
     "metadata": {},
     "output_type": "execute_result"
    }
   ],
   "source": [
    "spectra = Table.read(SPECTRA_ECSV_PATH)\n",
    "spectra.show_in_notebook()"
   ]
  }
 ],
 "metadata": {
  "kernelspec": {
   "display_name": "mapta-tesis-310",
   "language": "python",
   "name": "python3"
  },
  "language_info": {
   "codemirror_mode": {
    "name": "ipython",
    "version": 3
   },
   "file_extension": ".py",
   "mimetype": "text/x-python",
   "name": "python",
   "nbconvert_exporter": "python",
   "pygments_lexer": "ipython3",
   "version": "3.10.11"
  }
 },
 "nbformat": 4,
 "nbformat_minor": 2
}
